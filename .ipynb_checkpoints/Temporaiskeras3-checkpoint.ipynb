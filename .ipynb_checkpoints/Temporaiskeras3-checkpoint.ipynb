{
 "cells": [
  {
   "cell_type": "markdown",
   "metadata": {
    "colab_type": "text",
    "id": "2QUxw2rz3IPx"
   },
   "source": [
    "# Aula 1"
   ]
  },
  {
   "cell_type": "markdown",
   "metadata": {
    "colab_type": "text",
    "id": "nX0NwuaM5P2F"
   },
   "source": [
    "## Carregando os dados"
   ]
  },
  {
   "cell_type": "code",
   "execution_count": 1,
   "metadata": {
    "colab": {},
    "colab_type": "code",
    "id": "wUrtVmuQNHcU"
   },
   "outputs": [
    {
     "name": "stderr",
     "output_type": "stream",
     "text": [
      "/home/emmanuel/.pyenv/versions/3.6.8/envs/cranium/lib/python3.6/site-packages/pandas/compat/__init__.py:120: UserWarning: Could not import the lzma module. Your installed Python is incomplete. Attempting to use lzma compression will result in a RuntimeError.\n",
      "  warnings.warn(msg)\n",
      "/home/emmanuel/.pyenv/versions/3.6.8/envs/cranium/lib/python3.6/site-packages/tensorflow/python/framework/dtypes.py:516: FutureWarning: Passing (type, 1) or '1type' as a synonym of type is deprecated; in a future version of numpy, it will be understood as (type, (1,)) / '(1,)type'.\n",
      "  _np_qint8 = np.dtype([(\"qint8\", np.int8, 1)])\n",
      "/home/emmanuel/.pyenv/versions/3.6.8/envs/cranium/lib/python3.6/site-packages/tensorflow/python/framework/dtypes.py:517: FutureWarning: Passing (type, 1) or '1type' as a synonym of type is deprecated; in a future version of numpy, it will be understood as (type, (1,)) / '(1,)type'.\n",
      "  _np_quint8 = np.dtype([(\"quint8\", np.uint8, 1)])\n",
      "/home/emmanuel/.pyenv/versions/3.6.8/envs/cranium/lib/python3.6/site-packages/tensorflow/python/framework/dtypes.py:518: FutureWarning: Passing (type, 1) or '1type' as a synonym of type is deprecated; in a future version of numpy, it will be understood as (type, (1,)) / '(1,)type'.\n",
      "  _np_qint16 = np.dtype([(\"qint16\", np.int16, 1)])\n",
      "/home/emmanuel/.pyenv/versions/3.6.8/envs/cranium/lib/python3.6/site-packages/tensorflow/python/framework/dtypes.py:519: FutureWarning: Passing (type, 1) or '1type' as a synonym of type is deprecated; in a future version of numpy, it will be understood as (type, (1,)) / '(1,)type'.\n",
      "  _np_quint16 = np.dtype([(\"quint16\", np.uint16, 1)])\n",
      "/home/emmanuel/.pyenv/versions/3.6.8/envs/cranium/lib/python3.6/site-packages/tensorflow/python/framework/dtypes.py:520: FutureWarning: Passing (type, 1) or '1type' as a synonym of type is deprecated; in a future version of numpy, it will be understood as (type, (1,)) / '(1,)type'.\n",
      "  _np_qint32 = np.dtype([(\"qint32\", np.int32, 1)])\n",
      "/home/emmanuel/.pyenv/versions/3.6.8/envs/cranium/lib/python3.6/site-packages/tensorflow/python/framework/dtypes.py:525: FutureWarning: Passing (type, 1) or '1type' as a synonym of type is deprecated; in a future version of numpy, it will be understood as (type, (1,)) / '(1,)type'.\n",
      "  np_resource = np.dtype([(\"resource\", np.ubyte, 1)])\n",
      "/home/emmanuel/.pyenv/versions/3.6.8/envs/cranium/lib/python3.6/site-packages/tensorboard/compat/tensorflow_stub/dtypes.py:541: FutureWarning: Passing (type, 1) or '1type' as a synonym of type is deprecated; in a future version of numpy, it will be understood as (type, (1,)) / '(1,)type'.\n",
      "  _np_qint8 = np.dtype([(\"qint8\", np.int8, 1)])\n",
      "/home/emmanuel/.pyenv/versions/3.6.8/envs/cranium/lib/python3.6/site-packages/tensorboard/compat/tensorflow_stub/dtypes.py:542: FutureWarning: Passing (type, 1) or '1type' as a synonym of type is deprecated; in a future version of numpy, it will be understood as (type, (1,)) / '(1,)type'.\n",
      "  _np_quint8 = np.dtype([(\"quint8\", np.uint8, 1)])\n",
      "/home/emmanuel/.pyenv/versions/3.6.8/envs/cranium/lib/python3.6/site-packages/tensorboard/compat/tensorflow_stub/dtypes.py:543: FutureWarning: Passing (type, 1) or '1type' as a synonym of type is deprecated; in a future version of numpy, it will be understood as (type, (1,)) / '(1,)type'.\n",
      "  _np_qint16 = np.dtype([(\"qint16\", np.int16, 1)])\n",
      "/home/emmanuel/.pyenv/versions/3.6.8/envs/cranium/lib/python3.6/site-packages/tensorboard/compat/tensorflow_stub/dtypes.py:544: FutureWarning: Passing (type, 1) or '1type' as a synonym of type is deprecated; in a future version of numpy, it will be understood as (type, (1,)) / '(1,)type'.\n",
      "  _np_quint16 = np.dtype([(\"quint16\", np.uint16, 1)])\n",
      "/home/emmanuel/.pyenv/versions/3.6.8/envs/cranium/lib/python3.6/site-packages/tensorboard/compat/tensorflow_stub/dtypes.py:545: FutureWarning: Passing (type, 1) or '1type' as a synonym of type is deprecated; in a future version of numpy, it will be understood as (type, (1,)) / '(1,)type'.\n",
      "  _np_qint32 = np.dtype([(\"qint32\", np.int32, 1)])\n",
      "/home/emmanuel/.pyenv/versions/3.6.8/envs/cranium/lib/python3.6/site-packages/tensorboard/compat/tensorflow_stub/dtypes.py:550: FutureWarning: Passing (type, 1) or '1type' as a synonym of type is deprecated; in a future version of numpy, it will be understood as (type, (1,)) / '(1,)type'.\n",
      "  np_resource = np.dtype([(\"resource\", np.ubyte, 1)])\n"
     ]
    }
   ],
   "source": [
    "import pandas as pd\n",
    "import seaborn as sns\n",
    "from sklearn.preprocessing import StandardScaler\n",
    "import matplotlib.pyplot as plt\n",
    "import matplotlib as mpl\n",
    "from tensorflow.keras.models import Sequential\n",
    "from tensorflow.keras.layers import Dense\n",
    "import numpy as np\n",
    "mpl.rcParams['figure.figsize'] = (10, 6)\n",
    "mpl.rcParams['font.size'] = 22"
   ]
  },
  {
   "cell_type": "code",
   "execution_count": 2,
   "metadata": {
    "colab": {},
    "colab_type": "code",
    "id": "y7BfD16WNmeU"
   },
   "outputs": [
    {
     "name": "stdout",
     "output_type": "stream",
     "text": [
      "         tempo  passageiros\n",
      "0  1949.000000          112\n",
      "1  1949.083333          118\n",
      "2  1949.166667          132\n",
      "3  1949.250000          129\n",
      "4  1949.333333          121\n"
     ]
    }
   ],
   "source": [
    "def carregar_dados():\n",
    "    passageiros = pd.read_csv('Passageiros.csv')\n",
    "    print(passageiros.head())\n",
    "    return passageiros\n",
    "\n",
    "passageiros = carregar_dados()"
   ]
  },
  {
   "cell_type": "code",
   "execution_count": 3,
   "metadata": {
    "colab": {
     "base_uri": "https://localhost:8080/",
     "height": 425
    },
    "colab_type": "code",
    "id": "jnva3srEPLZh",
    "outputId": "523c13eb-e727-4b30-9540-48a548252651"
   },
   "outputs": [],
   "source": [
    "def plotar_dados_completos():\n",
    "    sns.lineplot(x='tempo',y='passageiros', data=passageiros,label='dado_completo') "
   ]
  },
  {
   "cell_type": "markdown",
   "metadata": {
    "colab_type": "text",
    "id": "2jDTVwgN5lah"
   },
   "source": [
    "## Escalando os dados"
   ]
  },
  {
   "cell_type": "code",
   "execution_count": 4,
   "metadata": {
    "colab": {},
    "colab_type": "code",
    "id": "P5FKYauEuWXL"
   },
   "outputs": [],
   "source": [
    "def escalar_dados():\n",
    "    sc = StandardScaler()\n",
    "    sc.fit(passageiros)\n",
    "    dado_escalado = sc.transform(passageiros)\n",
    "    x=dado_escalado[:,0] #Features - Características - Tempo\n",
    "    y=dado_escalado[:,1] #Alvo - Número de passageiros\n",
    "    return x, y\n",
    "\n",
    "x_escalado, y_escalado = escalar_dados()"
   ]
  },
  {
   "cell_type": "code",
   "execution_count": 5,
   "metadata": {
    "colab": {
     "base_uri": "https://localhost:8080/",
     "height": 428
    },
    "colab_type": "code",
    "id": "MN5fJ3sBw02d",
    "outputId": "1b7287f0-2d8c-4935-aa8a-30711772c439"
   },
   "outputs": [
    {
     "data": {
      "image/png": "[encoded data removed]",
      "text/plain": [
       "<Figure size 720x432 with 1 Axes>"
      ]
     },
     "metadata": {
      "needs_background": "light"
     },
     "output_type": "display_data"
    }
   ],
   "source": [
    "def plotar_eixos(x,y,label):\n",
    "    sns.lineplot(x=x,y=y,label=label) \n",
    "    plt.ylabel('Passageiros')\n",
    "    plt.xlabel('Data')\n",
    "\n",
    "    \n",
    "plotar_eixos(x_escalado, y_escalado, 'dado_escalado')"
   ]
  },
  {
   "cell_type": "markdown",
   "metadata": {
    "colab_type": "text",
    "id": "k7ouYZsv5W2F"
   },
   "source": [
    "## Dividindo em treino e teste"
   ]
  },
  {
   "cell_type": "code",
   "execution_count": 6,
   "metadata": {
    "colab": {},
    "colab_type": "code",
    "id": "dQ1FcF5EQxmG"
   },
   "outputs": [],
   "source": [
    "def dividir_treino_teste(tamanho_percentual_treino):\n",
    "    tamanho_treino = int(len(passageiros)*tamanho_percentual_treino) \n",
    "    tamanho_teste = int(len(passageiros)-tamanho_treino)\n",
    "    xtreino = x_escalado[0:tamanho_treino]\n",
    "    ytreino = y_escalado[0:tamanho_treino]\n",
    "    xteste = x_escalado[tamanho_treino:len(passageiros)]\n",
    "    yteste = y_escalado[tamanho_treino:len(passageiros)]\n",
    "    return xtreino, ytreino, xteste, yteste\n",
    "    \n",
    "x_treino, y_treino, x_teste, y_teste = dividir_treino_teste(0.8)"
   ]
  },
  {
   "cell_type": "code",
   "execution_count": 9,
   "metadata": {
    "colab": {
     "base_uri": "https://localhost:8080/",
     "height": 404
    },
    "colab_type": "code",
    "id": "zSiCvx0XRLyY",
    "outputId": "36971f38-1f9a-483f-a061-8732c4a3d798"
   },
   "outputs": [
    {
     "data": {
      "image/png": "[encoded data removed]",
      "text/plain": [
       "<Figure size 720x432 with 1 Axes>"
      ]
     },
     "metadata": {
      "needs_background": "light"
     },
     "output_type": "display_data"
    }
   ],
   "source": [
    "def plotar_eixos(x,y, label):\n",
    "    sns.lineplot(x=x,y=y,label=label) \n",
    "\n",
    "plotar_eixos(x_treino, y_treino, 'treino')    \n",
    "plotar_eixos(x_teste, y_teste, 'teste')"
   ]
  },
  {
   "cell_type": "markdown",
   "metadata": {
    "colab_type": "text",
    "id": "LseIFdma5rKN"
   },
   "source": [
    "# Aula 2\n",
    "\n",
    "## Regressão Linear"
   ]
  },
  {
   "cell_type": "code",
   "execution_count": 37,
   "metadata": {
    "colab": {},
    "colab_type": "code",
    "id": "ru641Txbw-YR"
   },
   "outputs": [],
   "source": [
    "def definir_modelo(hyperparams=[], input_dim=1, loss='mean_squared_error', optimizer='adam'):\n",
    "    \n",
    "    modelo = Sequential()\n",
    "\n",
    "    if (hyperparams[0]['input_dim'] is not None):\n",
    "        input_dim = hyperparams[0]['input_dim']\n",
    "\n",
    "    for i in range(0, len(hyperparams)):\n",
    "\n",
    "        modelo.add(Dense(hyperparams[i]['dimensao_saida'],\n",
    "                         input_dim=input_dim,\n",
    "                         activation=hyperparams[i]['activation'],\n",
    "                         kernel_initializer=hyperparams[i]['kernel_initializer'],\n",
    "                         use_bias=hyperparams[i]['use_bias']))\n",
    "\n",
    "    modelo.compile(loss=loss,\n",
    "                   metrics=['accuracy'],\n",
    "                   optimizer=optimizer)\n",
    "\n",
    "    modelo.summary()\n",
    "\n",
    "    return modelo"
   ]
  },
  {
   "cell_type": "code",
   "execution_count": 38,
   "metadata": {},
   "outputs": [],
   "source": [
    "def plotar_resultados(x, y):\n",
    "    dados = {'tempo':x, 'passageiros': y[:,0]}\n",
    "    resultados = pd.DataFrame(data=dados)\n",
    "    resultados_inversos = sc.inverse_transform(resultados)\n",
    "    x, y = resultados_inversos[:,0], resultados_inversos[:,1]\n",
    "    plotar_eixos(x, y, 'predições')"
   ]
  },
  {
   "cell_type": "code",
   "execution_count": 39,
   "metadata": {},
   "outputs": [],
   "source": [
    "def testar_modelo(hyperparams, epocas_treino=5):\n",
    "    \n",
    "    dados = passageiros\n",
    "        \n",
    "    modelo = definir_modelo(hyperparams)\n",
    "    modelo.fit(x_treino, y_treino, epochs=epocas_treino)\n",
    "    y_predict = modelo.predict(x_treino)\n",
    "    y_predict_teste = modelo.predict(x_teste)\n",
    "    \n",
    "    plotar_dados_completos()\n",
    "    plotar_resultados(x_treino, y_predict)\n",
    "    plotar_resultados(x_teste, y_predict_teste)"
   ]
  },
  {
   "cell_type": "code",
   "execution_count": 40,
   "metadata": {
    "colab": {},
    "colab_type": "code",
    "id": "hQ4BqFity0x-"
   },
   "outputs": [],
   "source": [
    "hyperparams_1=[{\n",
    "    \n",
    "    'dimensao_saida':1,\n",
    "    'activation':'linear',\n",
    "    'kernel_initializer':'Ones',\n",
    "    'use_bias':True\n",
    "}]\n",
    "\n",
    "#testar_modelo(hyperparams=hyperparams_1)"
   ]
  },
  {
   "cell_type": "markdown",
   "metadata": {
    "colab_type": "text",
    "id": "zybqc1BmZKtA"
   },
   "source": [
    "## Regressão não-linear"
   ]
  },
  {
   "cell_type": "code",
   "execution_count": 41,
   "metadata": {
    "colab": {},
    "colab_type": "code",
    "id": "enmt_zu8drcO"
   },
   "outputs": [],
   "source": [
    "hyperparams_4 = [{\n",
    "    \n",
    "    'dimensao_saida':8,\n",
    "   'activation':'sigmoid',\n",
    "    'kernel_initializer':'random_uniform',\n",
    "    'use_bias':False\n",
    "    \n",
    "},\n",
    "\n",
    "\n",
    "{\n",
    "    'dimensao_saida':8,\n",
    "   'activation':'sigmoid',\n",
    "    'kernel_initializer':'random_uniform',\n",
    "    'use_bias':False\n",
    "    \n",
    "},\n",
    "    \n",
    "    {\n",
    "    'dimensao_saida':1,\n",
    "    'activation':'linear',\n",
    "    'kernel_initializer':'random_uniform',\n",
    "    'use_bias':False\n",
    "    \n",
    "}\n",
    "\n",
    "]\n",
    "\n",
    "#testar_modelo(hyperparams_4, epocas_treino=500)"
   ]
  },
  {
   "cell_type": "markdown",
   "metadata": {
    "colab_type": "text",
    "id": "NhBEyHb9Z0OK"
   },
   "source": [
    "# Aula 3"
   ]
  },
  {
   "cell_type": "markdown",
   "metadata": {
    "colab_type": "text",
    "id": "BePFa969Z7-A"
   },
   "source": [
    "## Alterando a forma como passamos os dados\n",
    "\n",
    "Agora x e y vão valores diferentes. X vai conter o número de passageiros em um tempo anterior e y vai conter o número de passageiros em t+1, por exemplo. "
   ]
  },
  {
   "cell_type": "code",
   "execution_count": 42,
   "metadata": {
    "colab": {},
    "colab_type": "code",
    "id": "iYg7EIvXZ7Dr"
   },
   "outputs": [],
   "source": [
    "def separa_dados(dados_seriados, n_passos):\n",
    "    \n",
    "  \"\"\"Entrada: vetor: número de passageiros\n",
    "               n_passos: número de passos no regressor\n",
    "     Saída:\n",
    "              X_novo: Array 2D \n",
    "              y_novo: Array 1D - Nosso alvo\n",
    "  \"\"\"\n",
    "  vetor = pd.DataFrame(dados_seriados)[0]\n",
    "  X_novo, y_novo = [], []\n",
    "  for i in range(n_passos,vetor.shape[0]):\n",
    "    X_novo.append(list(vetor.loc[i-n_passos:i-1]))\n",
    "    y_novo.append(vetor.loc[i])\n",
    "  X_novo, y_novo = np.array(X_novo), np.array(y_novo) \n",
    "  return X_novo, y_novo"
   ]
  },
  {
   "cell_type": "code",
   "execution_count": 44,
   "metadata": {
    "colab": {},
    "colab_type": "code",
    "id": "ZBDThuBZjzPR"
   },
   "outputs": [],
   "source": [
    "n_passos = 1\n",
    "xtreino_novo, ytreino_novo = separa_dados(y_treino, n_passos)\n",
    "xteste_novo, yteste_novo = separa_dados(y_teste, n_passos)"
   ]
  },
  {
   "cell_type": "markdown",
   "metadata": {
    "colab_type": "text",
    "id": "oGvXVDsLAV8h"
   },
   "source": [
    "## Agora vamos separar o teste"
   ]
  },
  {
   "cell_type": "markdown",
   "metadata": {
    "colab_type": "text",
    "id": "6VO3qXXZKqbz"
   },
   "source": [
    "## Voltando para as redes neurais"
   ]
  },
  {
   "cell_type": "code",
   "execution_count": 45,
   "metadata": {
    "colab": {
     "base_uri": "https://localhost:8080/",
     "height": 255
    },
    "colab_type": "code",
    "id": "P9wmv_9UM3Td",
    "outputId": "dc8ce290-0bf4-4d9f-c0ea-5d65b3e71151"
   },
   "outputs": [
    {
     "name": "stdout",
     "output_type": "stream",
     "text": [
      "Model: \"sequential_2\"\n",
      "_________________________________________________________________\n",
      "Layer (type)                 Output Shape              Param #   \n",
      "=================================================================\n",
      "dense_6 (Dense)              (None, 8)                 8         \n",
      "_________________________________________________________________\n",
      "dense_7 (Dense)              (None, 64)                512       \n",
      "_________________________________________________________________\n",
      "dense_8 (Dense)              (None, 1)                 64        \n",
      "=================================================================\n",
      "Total params: 584\n",
      "Trainable params: 584\n",
      "Non-trainable params: 0\n",
      "_________________________________________________________________\n"
     ]
    }
   ],
   "source": [
    "hyperparams_5 = [{\n",
    "    \n",
    "    'dimensao_saida':8,\n",
    "   'activation':'linear',\n",
    "    'kernel_initializer':'ones',\n",
    "    'use_bias':False,\n",
    "    'input_dim':n_passos\n",
    "    \n",
    "},\n",
    "\n",
    "\n",
    "{\n",
    "    'dimensao_saida':64,\n",
    "   'activation':'sigmoid',\n",
    "    'kernel_initializer':'random_uniform',\n",
    "    'use_bias':False,\n",
    "    \n",
    "},\n",
    "    \n",
    "    {\n",
    "    'dimensao_saida':1,\n",
    "    'activation':'linear',\n",
    "    'kernel_initializer':'random_uniform',\n",
    "    'use_bias':False,\n",
    "    \n",
    "}\n",
    "\n",
    "\n",
    "\n",
    "]\n",
    "\n",
    "regressor3 = definir_modelo(hyperparams_5)"
   ]
  },
  {
   "cell_type": "code",
   "execution_count": 46,
   "metadata": {
    "colab": {
     "base_uri": "https://localhost:8080/",
     "height": 1000
    },
    "colab_type": "code",
    "id": "UNbo6HL2OAdY",
    "outputId": "447989b3-8372-4ccd-d9d2-a4baeecda083"
   },
   "outputs": [
    {
     "name": "stdout",
     "output_type": "stream",
     "text": [
      "Epoch 1/100\n",
      "114/114 [==============================] - 0s 401us/sample - loss: 0.5804 - acc: 0.0000e+00\n",
      "Epoch 2/100\n",
      "114/114 [==============================] - 0s 54us/sample - loss: 0.5482 - acc: 0.0000e+00\n",
      "Epoch 3/100\n",
      "114/114 [==============================] - 0s 52us/sample - loss: 0.5376 - acc: 0.0000e+00\n",
      "Epoch 4/100\n",
      "114/114 [==============================] - 0s 62us/sample - loss: 0.5207 - acc: 0.0000e+00\n",
      "Epoch 5/100\n",
      "114/114 [==============================] - 0s 59us/sample - loss: 0.5018 - acc: 0.0000e+00\n",
      "Epoch 6/100\n",
      "114/114 [==============================] - 0s 78us/sample - loss: 0.4851 - acc: 0.0000e+00\n",
      "Epoch 7/100\n",
      "114/114 [==============================] - 0s 96us/sample - loss: 0.4674 - acc: 0.0000e+00\n",
      "Epoch 8/100\n",
      "114/114 [==============================] - 0s 87us/sample - loss: 0.4511 - acc: 0.0000e+00\n",
      "Epoch 9/100\n",
      "114/114 [==============================] - 0s 60us/sample - loss: 0.4310 - acc: 0.0000e+00\n",
      "Epoch 10/100\n",
      "114/114 [==============================] - 0s 85us/sample - loss: 0.4093 - acc: 0.0000e+00\n",
      "Epoch 11/100\n",
      "114/114 [==============================] - 0s 55us/sample - loss: 0.3883 - acc: 0.0000e+00\n",
      "Epoch 12/100\n",
      "114/114 [==============================] - 0s 81us/sample - loss: 0.3642 - acc: 0.0000e+00\n",
      "Epoch 13/100\n",
      "114/114 [==============================] - 0s 97us/sample - loss: 0.3420 - acc: 0.0000e+00\n",
      "Epoch 14/100\n",
      "114/114 [==============================] - 0s 78us/sample - loss: 0.3160 - acc: 0.0000e+00\n",
      "Epoch 15/100\n",
      "114/114 [==============================] - 0s 65us/sample - loss: 0.2901 - acc: 0.0000e+00\n",
      "Epoch 16/100\n",
      "114/114 [==============================] - 0s 106us/sample - loss: 0.2648 - acc: 0.0000e+00\n",
      "Epoch 17/100\n",
      "114/114 [==============================] - 0s 82us/sample - loss: 0.2380 - acc: 0.0000e+00\n",
      "Epoch 18/100\n",
      "114/114 [==============================] - 0s 51us/sample - loss: 0.2113 - acc: 0.0000e+00\n",
      "Epoch 19/100\n",
      "114/114 [==============================] - 0s 65us/sample - loss: 0.1868 - acc: 0.0000e+00\n",
      "Epoch 20/100\n",
      "114/114 [==============================] - 0s 51us/sample - loss: 0.1625 - acc: 0.0000e+00\n",
      "Epoch 21/100\n",
      "114/114 [==============================] - 0s 57us/sample - loss: 0.1414 - acc: 0.0000e+00\n",
      "Epoch 22/100\n",
      "114/114 [==============================] - 0s 75us/sample - loss: 0.1220 - acc: 0.0000e+00\n",
      "Epoch 23/100\n",
      "114/114 [==============================] - 0s 59us/sample - loss: 0.1052 - acc: 0.0000e+00\n",
      "Epoch 24/100\n",
      "114/114 [==============================] - 0s 88us/sample - loss: 0.0904 - acc: 0.0000e+00\n",
      "Epoch 25/100\n",
      "114/114 [==============================] - 0s 50us/sample - loss: 0.0776 - acc: 0.0000e+00\n",
      "Epoch 26/100\n",
      "114/114 [==============================] - 0s 105us/sample - loss: 0.0692 - acc: 0.0000e+00\n",
      "Epoch 27/100\n",
      "114/114 [==============================] - 0s 80us/sample - loss: 0.0628 - acc: 0.0000e+00\n",
      "Epoch 28/100\n",
      "114/114 [==============================] - 0s 62us/sample - loss: 0.0574 - acc: 0.0000e+00\n",
      "Epoch 29/100\n",
      "114/114 [==============================] - 0s 63us/sample - loss: 0.0538 - acc: 0.0000e+00\n",
      "Epoch 30/100\n",
      "114/114 [==============================] - 0s 56us/sample - loss: 0.0521 - acc: 0.0000e+00\n",
      "Epoch 31/100\n",
      "114/114 [==============================] - 0s 67us/sample - loss: 0.0508 - acc: 0.0000e+00\n",
      "Epoch 32/100\n",
      "114/114 [==============================] - 0s 85us/sample - loss: 0.0503 - acc: 0.0000e+00\n",
      "Epoch 33/100\n",
      "114/114 [==============================] - 0s 57us/sample - loss: 0.0501 - acc: 0.0000e+00\n",
      "Epoch 34/100\n",
      "114/114 [==============================] - 0s 78us/sample - loss: 0.0499 - acc: 0.0000e+00\n",
      "Epoch 35/100\n",
      "114/114 [==============================] - 0s 81us/sample - loss: 0.0500 - acc: 0.0000e+00\n",
      "Epoch 36/100\n",
      "114/114 [==============================] - 0s 62us/sample - loss: 0.0501 - acc: 0.0000e+00\n",
      "Epoch 37/100\n",
      "114/114 [==============================] - 0s 77us/sample - loss: 0.0501 - acc: 0.0000e+00\n",
      "Epoch 38/100\n",
      "114/114 [==============================] - 0s 53us/sample - loss: 0.0501 - acc: 0.0000e+00\n",
      "Epoch 39/100\n",
      "114/114 [==============================] - 0s 49us/sample - loss: 0.0501 - acc: 0.0000e+00\n",
      "Epoch 40/100\n",
      "114/114 [==============================] - 0s 54us/sample - loss: 0.0501 - acc: 0.0000e+00\n",
      "Epoch 41/100\n",
      "114/114 [==============================] - 0s 50us/sample - loss: 0.0501 - acc: 0.0000e+00\n",
      "Epoch 42/100\n",
      "114/114 [==============================] - 0s 65us/sample - loss: 0.0501 - acc: 0.0000e+00\n",
      "Epoch 43/100\n",
      "114/114 [==============================] - 0s 52us/sample - loss: 0.0500 - acc: 0.0000e+00\n",
      "Epoch 44/100\n",
      "114/114 [==============================] - 0s 68us/sample - loss: 0.0500 - acc: 0.0000e+00\n",
      "Epoch 45/100\n",
      "114/114 [==============================] - 0s 52us/sample - loss: 0.0501 - acc: 0.0000e+00\n",
      "Epoch 46/100\n",
      "114/114 [==============================] - 0s 82us/sample - loss: 0.0502 - acc: 0.0000e+00\n",
      "Epoch 47/100\n",
      "114/114 [==============================] - 0s 55us/sample - loss: 0.0501 - acc: 0.0000e+00\n",
      "Epoch 48/100\n",
      "114/114 [==============================] - 0s 59us/sample - loss: 0.0499 - acc: 0.0000e+00\n",
      "Epoch 49/100\n",
      "114/114 [==============================] - 0s 57us/sample - loss: 0.0501 - acc: 0.0000e+00\n",
      "Epoch 50/100\n",
      "114/114 [==============================] - 0s 64us/sample - loss: 0.0502 - acc: 0.0000e+00\n",
      "Epoch 51/100\n",
      "114/114 [==============================] - 0s 77us/sample - loss: 0.0502 - acc: 0.0000e+00\n",
      "Epoch 52/100\n",
      "114/114 [==============================] - 0s 91us/sample - loss: 0.0500 - acc: 0.0000e+00\n",
      "Epoch 53/100\n",
      "114/114 [==============================] - 0s 54us/sample - loss: 0.0501 - acc: 0.0000e+00\n",
      "Epoch 54/100\n",
      "114/114 [==============================] - 0s 66us/sample - loss: 0.0501 - acc: 0.0000e+00\n",
      "Epoch 55/100\n",
      "114/114 [==============================] - 0s 58us/sample - loss: 0.0501 - acc: 0.0000e+00\n",
      "Epoch 56/100\n",
      "114/114 [==============================] - 0s 72us/sample - loss: 0.0501 - acc: 0.0000e+00\n",
      "Epoch 57/100\n",
      "114/114 [==============================] - 0s 58us/sample - loss: 0.0501 - acc: 0.0000e+00\n",
      "Epoch 58/100\n",
      "114/114 [==============================] - 0s 67us/sample - loss: 0.0500 - acc: 0.0000e+00\n",
      "Epoch 59/100\n",
      "114/114 [==============================] - 0s 50us/sample - loss: 0.0501 - acc: 0.0000e+00\n",
      "Epoch 60/100\n",
      "114/114 [==============================] - 0s 77us/sample - loss: 0.0500 - acc: 0.0000e+00\n",
      "Epoch 61/100\n",
      "114/114 [==============================] - 0s 59us/sample - loss: 0.0499 - acc: 0.0000e+00\n",
      "Epoch 62/100\n",
      "114/114 [==============================] - 0s 55us/sample - loss: 0.0500 - acc: 0.0000e+00\n",
      "Epoch 63/100\n",
      "114/114 [==============================] - 0s 56us/sample - loss: 0.0501 - acc: 0.0000e+00\n",
      "Epoch 64/100\n",
      "114/114 [==============================] - 0s 50us/sample - loss: 0.0501 - acc: 0.0000e+00\n",
      "Epoch 65/100\n",
      "114/114 [==============================] - 0s 58us/sample - loss: 0.0500 - acc: 0.0000e+00\n",
      "Epoch 66/100\n",
      "114/114 [==============================] - 0s 77us/sample - loss: 0.0500 - acc: 0.0000e+00\n",
      "Epoch 67/100\n",
      "114/114 [==============================] - 0s 62us/sample - loss: 0.0500 - acc: 0.0000e+00\n",
      "Epoch 68/100\n",
      "114/114 [==============================] - 0s 67us/sample - loss: 0.0500 - acc: 0.0000e+00\n",
      "Epoch 69/100\n",
      "114/114 [==============================] - 0s 54us/sample - loss: 0.0500 - acc: 0.0000e+00\n",
      "Epoch 70/100\n",
      "114/114 [==============================] - 0s 128us/sample - loss: 0.0500 - acc: 0.0000e+00\n",
      "Epoch 71/100\n",
      "114/114 [==============================] - 0s 67us/sample - loss: 0.0500 - acc: 0.0000e+00\n",
      "Epoch 72/100\n",
      "114/114 [==============================] - 0s 52us/sample - loss: 0.0499 - acc: 0.0000e+00\n",
      "Epoch 73/100\n",
      "114/114 [==============================] - 0s 62us/sample - loss: 0.0501 - acc: 0.0000e+00\n",
      "Epoch 74/100\n",
      "114/114 [==============================] - 0s 67us/sample - loss: 0.0502 - acc: 0.0000e+00\n",
      "Epoch 75/100\n",
      "114/114 [==============================] - 0s 62us/sample - loss: 0.0501 - acc: 0.0000e+00\n",
      "Epoch 76/100\n",
      "114/114 [==============================] - 0s 69us/sample - loss: 0.0500 - acc: 0.0000e+00\n",
      "Epoch 77/100\n",
      "114/114 [==============================] - 0s 71us/sample - loss: 0.0500 - acc: 0.0000e+00\n",
      "Epoch 78/100\n",
      "114/114 [==============================] - 0s 60us/sample - loss: 0.0501 - acc: 0.0000e+00\n",
      "Epoch 79/100\n"
     ]
    },
    {
     "name": "stdout",
     "output_type": "stream",
     "text": [
      "114/114 [==============================] - 0s 58us/sample - loss: 0.0499 - acc: 0.0000e+00\n",
      "Epoch 80/100\n",
      "114/114 [==============================] - 0s 52us/sample - loss: 0.0500 - acc: 0.0000e+00\n",
      "Epoch 81/100\n",
      "114/114 [==============================] - 0s 50us/sample - loss: 0.0501 - acc: 0.0000e+00\n",
      "Epoch 82/100\n",
      "114/114 [==============================] - 0s 99us/sample - loss: 0.0501 - acc: 0.0000e+00\n",
      "Epoch 83/100\n",
      "114/114 [==============================] - 0s 83us/sample - loss: 0.0500 - acc: 0.0000e+00\n",
      "Epoch 84/100\n",
      "114/114 [==============================] - 0s 80us/sample - loss: 0.0502 - acc: 0.0000e+00\n",
      "Epoch 85/100\n",
      "114/114 [==============================] - 0s 68us/sample - loss: 0.0501 - acc: 0.0000e+00\n",
      "Epoch 86/100\n",
      "114/114 [==============================] - 0s 59us/sample - loss: 0.0501 - acc: 0.0000e+00\n",
      "Epoch 87/100\n",
      "114/114 [==============================] - 0s 67us/sample - loss: 0.0500 - acc: 0.0000e+00\n",
      "Epoch 88/100\n",
      "114/114 [==============================] - 0s 61us/sample - loss: 0.0500 - acc: 0.0000e+00\n",
      "Epoch 89/100\n",
      "114/114 [==============================] - 0s 51us/sample - loss: 0.0500 - acc: 0.0000e+00\n",
      "Epoch 90/100\n",
      "114/114 [==============================] - 0s 77us/sample - loss: 0.0501 - acc: 0.0000e+00\n",
      "Epoch 91/100\n",
      "114/114 [==============================] - 0s 53us/sample - loss: 0.0501 - acc: 0.0000e+00\n",
      "Epoch 92/100\n",
      "114/114 [==============================] - 0s 64us/sample - loss: 0.0500 - acc: 0.0000e+00\n",
      "Epoch 93/100\n",
      "114/114 [==============================] - 0s 78us/sample - loss: 0.0502 - acc: 0.0000e+00\n",
      "Epoch 94/100\n",
      "114/114 [==============================] - 0s 53us/sample - loss: 0.0501 - acc: 0.0000e+00\n",
      "Epoch 95/100\n",
      "114/114 [==============================] - 0s 65us/sample - loss: 0.0502 - acc: 0.0000e+00\n",
      "Epoch 96/100\n",
      "114/114 [==============================] - 0s 60us/sample - loss: 0.0500 - acc: 0.0000e+00\n",
      "Epoch 97/100\n",
      "114/114 [==============================] - 0s 95us/sample - loss: 0.0500 - acc: 0.0000e+00\n",
      "Epoch 98/100\n",
      "114/114 [==============================] - 0s 62us/sample - loss: 0.0500 - acc: 0.0000e+00\n",
      "Epoch 99/100\n",
      "114/114 [==============================] - 0s 50us/sample - loss: 0.0500 - acc: 0.0000e+00\n",
      "Epoch 100/100\n",
      "114/114 [==============================] - 0s 59us/sample - loss: 0.0500 - acc: 0.0000e+00\n"
     ]
    },
    {
     "data": {
      "text/plain": [
       "<tensorflow.python.keras.callbacks.History at 0x7f7de0a23128>"
      ]
     },
     "execution_count": 46,
     "metadata": {},
     "output_type": "execute_result"
    }
   ],
   "source": [
    "regressor3.fit(xtreino_novo,ytreino_novo,epochs =100)"
   ]
  },
  {
   "cell_type": "code",
   "execution_count": 47,
   "metadata": {
    "colab": {},
    "colab_type": "code",
    "id": "iHPf2EeaQYgy"
   },
   "outputs": [],
   "source": [
    "y_predict_novo = regressor3.predict(xtreino_novo)"
   ]
  },
  {
   "cell_type": "code",
   "execution_count": 48,
   "metadata": {
    "colab": {
     "base_uri": "https://localhost:8080/",
     "height": 425
    },
    "colab_type": "code",
    "id": "8ULGBpxtUvh7",
    "outputId": "7edda670-379a-4c03-c39c-eee60190aacc"
   },
   "outputs": [],
   "source": [
    "def plotar_resultado_treino_dados_alterados(y, dados, label):\n",
    "    sns.lineplot(x='tempo',y=y,data=dados,label=label)"
   ]
  },
  {
   "cell_type": "code",
   "execution_count": 49,
   "metadata": {
    "colab": {},
    "colab_type": "code",
    "id": "j_cSUf31U3Ag"
   },
   "outputs": [],
   "source": [
    "y_predict_teste_novo = regressor3.predict(xteste_novo)"
   ]
  },
  {
   "cell_type": "code",
   "execution_count": 50,
   "metadata": {
    "colab": {},
    "colab_type": "code",
    "id": "3qnFMQz5RHuE"
   },
   "outputs": [],
   "source": [
    "resultado = pd.DataFrame(y_predict_teste_novo)[0]"
   ]
  },
  {
   "cell_type": "code",
   "execution_count": 51,
   "metadata": {
    "colab": {
     "base_uri": "https://localhost:8080/",
     "height": 428
    },
    "colab_type": "code",
    "id": "PB7gGmIwKh-z",
    "outputId": "934ad81a-1c17-48d3-ef09-691104b69277"
   },
   "outputs": [
    {
     "data": {
      "image/png": "[encoded data removed]",
      "text/plain": [
       "<Figure size 720x432 with 1 Axes>"
      ]
     },
     "metadata": {
      "needs_background": "light"
     },
     "output_type": "display_data"
    }
   ],
   "source": [
    "plotar_resultado_treino_dados_alterados(ytreino_novo, passageiros[1:115], 'treino')\n",
    "plotar_resultado_treino_dados_alterados(pd.DataFrame(y_predict_novo)[0], passageiros[1:115], 'ajuste_treino')\n",
    "plotar_resultado_treino_dados_alterados(yteste_novo, passageiros[116:144], 'teste')\n",
    "plotar_resultado_treino_dados_alterados(resultado.values, passageiros[116:144], 'previsão')"
   ]
  },
  {
   "cell_type": "markdown",
   "metadata": {
    "colab_type": "text",
    "id": "PAJ2mH-jnym6"
   },
   "source": [
    "## Janelas"
   ]
  },
  {
   "cell_type": "code",
   "execution_count": 52,
   "metadata": {
    "colab": {},
    "colab_type": "code",
    "id": "4faZAXgwoHZ9"
   },
   "outputs": [],
   "source": [
    "n_passos = 4\n",
    "xtreino_novo, ytreino_novo = separa_dados(y_treino, n_passos)\n",
    "xteste_novo, yteste_novo = separa_dados(y_teste, n_passos)"
   ]
  },
  {
   "cell_type": "code",
   "execution_count": 54,
   "metadata": {
    "colab": {
     "base_uri": "https://localhost:8080/",
     "height": 255
    },
    "colab_type": "code",
    "id": "Uua1dEGqt0Uw",
    "outputId": "51dfbecb-3504-4326-c59e-a1ae1507ab5d"
   },
   "outputs": [
    {
     "name": "stdout",
     "output_type": "stream",
     "text": [
      "Model: \"sequential_4\"\n",
      "_________________________________________________________________\n",
      "Layer (type)                 Output Shape              Param #   \n",
      "=================================================================\n",
      "dense_12 (Dense)             (None, 8)                 32        \n",
      "_________________________________________________________________\n",
      "dense_13 (Dense)             (None, 64)                512       \n",
      "_________________________________________________________________\n",
      "dense_14 (Dense)             (None, 1)                 64        \n",
      "=================================================================\n",
      "Total params: 608\n",
      "Trainable params: 608\n",
      "Non-trainable params: 0\n",
      "_________________________________________________________________\n"
     ]
    }
   ],
   "source": [
    "hyperparams_6 = [{\n",
    "    \n",
    "    \n",
    "    'dimensao_saida':8,\n",
    "   'activation':'linear',\n",
    "    'kernel_initializer':'random_uniform',\n",
    "    'use_bias':False,\n",
    "    'input_dim':n_passos\n",
    "    \n",
    "},\n",
    "\n",
    "\n",
    "{\n",
    "    'dimensao_saida':64,\n",
    "   'activation':'sigmoid',\n",
    "    'kernel_initializer':'random_uniform',\n",
    "    'use_bias':False,\n",
    "    \n",
    "},\n",
    "    \n",
    "    {\n",
    "    'dimensao_saida':1,\n",
    "    'activation':'linear',\n",
    "    'kernel_initializer':'random_uniform',\n",
    "    'use_bias':False,\n",
    "    \n",
    "}\n",
    "\n",
    "\n",
    "\n",
    "]\n",
    "\n",
    "regressor4 = definir_modelo(hyperparams_6)"
   ]
  },
  {
   "cell_type": "code",
   "execution_count": 55,
   "metadata": {
    "colab": {
     "base_uri": "https://localhost:8080/",
     "height": 1000
    },
    "colab_type": "code",
    "id": "JpDXr9jMt0U3",
    "outputId": "4054ce32-fed6-450c-b1ef-419a3edb9869"
   },
   "outputs": [
    {
     "name": "stdout",
     "output_type": "stream",
     "text": [
      "Epoch 1/300\n",
      "111/111 [==============================] - 0s 430us/sample - loss: 0.5874 - acc: 0.0000e+00\n",
      "Epoch 2/300\n",
      "111/111 [==============================] - 0s 61us/sample - loss: 0.5627 - acc: 0.0000e+00\n",
      "Epoch 3/300\n",
      "111/111 [==============================] - 0s 76us/sample - loss: 0.5635 - acc: 0.0000e+00\n",
      "Epoch 4/300\n",
      "111/111 [==============================] - 0s 56us/sample - loss: 0.5657 - acc: 0.0000e+00\n",
      "Epoch 5/300\n",
      "111/111 [==============================] - 0s 72us/sample - loss: 0.5649 - acc: 0.0000e+00\n",
      "Epoch 6/300\n",
      "111/111 [==============================] - 0s 63us/sample - loss: 0.5601 - acc: 0.0000e+00\n",
      "Epoch 7/300\n",
      "111/111 [==============================] - 0s 68us/sample - loss: 0.5562 - acc: 0.0000e+00\n",
      "Epoch 8/300\n",
      "111/111 [==============================] - 0s 53us/sample - loss: 0.5502 - acc: 0.0000e+00\n",
      "Epoch 9/300\n",
      "111/111 [==============================] - 0s 60us/sample - loss: 0.5459 - acc: 0.0000e+00\n",
      "Epoch 10/300\n",
      "111/111 [==============================] - 0s 59us/sample - loss: 0.5406 - acc: 0.0000e+00\n",
      "Epoch 11/300\n",
      "111/111 [==============================] - 0s 71us/sample - loss: 0.5342 - acc: 0.0000e+00\n",
      "Epoch 12/300\n",
      "111/111 [==============================] - 0s 87us/sample - loss: 0.5287 - acc: 0.0000e+00\n",
      "Epoch 13/300\n",
      "111/111 [==============================] - 0s 58us/sample - loss: 0.5195 - acc: 0.0000e+00\n",
      "Epoch 14/300\n",
      "111/111 [==============================] - 0s 89us/sample - loss: 0.5099 - acc: 0.0000e+00\n",
      "Epoch 15/300\n",
      "111/111 [==============================] - 0s 82us/sample - loss: 0.4991 - acc: 0.0000e+00\n",
      "Epoch 16/300\n",
      "111/111 [==============================] - 0s 74us/sample - loss: 0.4868 - acc: 0.0000e+00\n",
      "Epoch 17/300\n",
      "111/111 [==============================] - 0s 71us/sample - loss: 0.4730 - acc: 0.0000e+00\n",
      "Epoch 18/300\n",
      "111/111 [==============================] - 0s 107us/sample - loss: 0.4570 - acc: 0.0000e+00\n",
      "Epoch 19/300\n",
      "111/111 [==============================] - 0s 90us/sample - loss: 0.4400 - acc: 0.0000e+00\n",
      "Epoch 20/300\n",
      "111/111 [==============================] - 0s 55us/sample - loss: 0.4193 - acc: 0.0000e+00\n",
      "Epoch 21/300\n",
      "111/111 [==============================] - 0s 93us/sample - loss: 0.3977 - acc: 0.0000e+00\n",
      "Epoch 22/300\n",
      "111/111 [==============================] - 0s 66us/sample - loss: 0.3738 - acc: 0.0000e+00\n",
      "Epoch 23/300\n",
      "111/111 [==============================] - 0s 62us/sample - loss: 0.3479 - acc: 0.0000e+00\n",
      "Epoch 24/300\n",
      "111/111 [==============================] - 0s 101us/sample - loss: 0.3207 - acc: 0.0000e+00\n",
      "Epoch 25/300\n",
      "111/111 [==============================] - 0s 85us/sample - loss: 0.2938 - acc: 0.0000e+00\n",
      "Epoch 26/300\n",
      "111/111 [==============================] - 0s 65us/sample - loss: 0.2661 - acc: 0.0000e+00\n",
      "Epoch 27/300\n",
      "111/111 [==============================] - 0s 83us/sample - loss: 0.2385 - acc: 0.0000e+00\n",
      "Epoch 28/300\n",
      "111/111 [==============================] - 0s 83us/sample - loss: 0.2149 - acc: 0.0000e+00\n",
      "Epoch 29/300\n",
      "111/111 [==============================] - 0s 82us/sample - loss: 0.1898 - acc: 0.0000e+00\n",
      "Epoch 30/300\n",
      "111/111 [==============================] - 0s 62us/sample - loss: 0.1702 - acc: 0.0000e+00\n",
      "Epoch 31/300\n",
      "111/111 [==============================] - 0s 61us/sample - loss: 0.1509 - acc: 0.0000e+00\n",
      "Epoch 32/300\n",
      "111/111 [==============================] - 0s 53us/sample - loss: 0.1395 - acc: 0.0000e+00\n",
      "Epoch 33/300\n",
      "111/111 [==============================] - 0s 68us/sample - loss: 0.1267 - acc: 0.0000e+00\n",
      "Epoch 34/300\n",
      "111/111 [==============================] - 0s 63us/sample - loss: 0.1189 - acc: 0.0000e+00\n",
      "Epoch 35/300\n",
      "111/111 [==============================] - 0s 68us/sample - loss: 0.1127 - acc: 0.0000e+00\n",
      "Epoch 36/300\n",
      "111/111 [==============================] - 0s 52us/sample - loss: 0.1093 - acc: 0.0000e+00\n",
      "Epoch 37/300\n",
      "111/111 [==============================] - 0s 63us/sample - loss: 0.1072 - acc: 0.0000e+00\n",
      "Epoch 38/300\n",
      "111/111 [==============================] - 0s 60us/sample - loss: 0.1066 - acc: 0.0000e+00\n",
      "Epoch 39/300\n",
      "111/111 [==============================] - 0s 56us/sample - loss: 0.1052 - acc: 0.0000e+00\n",
      "Epoch 40/300\n",
      "111/111 [==============================] - 0s 77us/sample - loss: 0.1048 - acc: 0.0000e+00\n",
      "Epoch 41/300\n",
      "111/111 [==============================] - 0s 55us/sample - loss: 0.1046 - acc: 0.0000e+00\n",
      "Epoch 42/300\n",
      "111/111 [==============================] - 0s 71us/sample - loss: 0.1043 - acc: 0.0000e+00\n",
      "Epoch 43/300\n",
      "111/111 [==============================] - 0s 52us/sample - loss: 0.1037 - acc: 0.0000e+00\n",
      "Epoch 44/300\n",
      "111/111 [==============================] - 0s 62us/sample - loss: 0.1034 - acc: 0.0000e+00\n",
      "Epoch 45/300\n",
      "111/111 [==============================] - 0s 56us/sample - loss: 0.1029 - acc: 0.0000e+00\n",
      "Epoch 46/300\n",
      "111/111 [==============================] - 0s 75us/sample - loss: 0.1024 - acc: 0.0000e+00\n",
      "Epoch 47/300\n",
      "111/111 [==============================] - 0s 65us/sample - loss: 0.1020 - acc: 0.0000e+00\n",
      "Epoch 48/300\n",
      "111/111 [==============================] - 0s 53us/sample - loss: 0.1016 - acc: 0.0000e+00\n",
      "Epoch 49/300\n",
      "111/111 [==============================] - 0s 66us/sample - loss: 0.1010 - acc: 0.0000e+00\n",
      "Epoch 50/300\n",
      "111/111 [==============================] - 0s 67us/sample - loss: 0.1005 - acc: 0.0000e+00\n",
      "Epoch 51/300\n",
      "111/111 [==============================] - 0s 58us/sample - loss: 0.1000 - acc: 0.0000e+00\n",
      "Epoch 52/300\n",
      "111/111 [==============================] - 0s 58us/sample - loss: 0.0998 - acc: 0.0000e+00\n",
      "Epoch 53/300\n",
      "111/111 [==============================] - 0s 58us/sample - loss: 0.0994 - acc: 0.0000e+00\n",
      "Epoch 54/300\n",
      "111/111 [==============================] - 0s 78us/sample - loss: 0.0990 - acc: 0.0000e+00\n",
      "Epoch 55/300\n",
      "111/111 [==============================] - 0s 82us/sample - loss: 0.0984 - acc: 0.0000e+00\n",
      "Epoch 56/300\n",
      "111/111 [==============================] - 0s 59us/sample - loss: 0.0981 - acc: 0.0000e+00\n",
      "Epoch 57/300\n",
      "111/111 [==============================] - 0s 76us/sample - loss: 0.0977 - acc: 0.0000e+00\n",
      "Epoch 58/300\n",
      "111/111 [==============================] - 0s 81us/sample - loss: 0.0972 - acc: 0.0000e+00\n",
      "Epoch 59/300\n",
      "111/111 [==============================] - 0s 67us/sample - loss: 0.0968 - acc: 0.0000e+00\n",
      "Epoch 60/300\n",
      "111/111 [==============================] - 0s 74us/sample - loss: 0.0963 - acc: 0.0000e+00\n",
      "Epoch 61/300\n",
      "111/111 [==============================] - 0s 50us/sample - loss: 0.0956 - acc: 0.0000e+00\n",
      "Epoch 62/300\n",
      "111/111 [==============================] - 0s 63us/sample - loss: 0.0952 - acc: 0.0000e+00\n",
      "Epoch 63/300\n",
      "111/111 [==============================] - 0s 51us/sample - loss: 0.0947 - acc: 0.0000e+00\n",
      "Epoch 64/300\n",
      "111/111 [==============================] - 0s 68us/sample - loss: 0.0941 - acc: 0.0000e+00\n",
      "Epoch 65/300\n",
      "111/111 [==============================] - 0s 51us/sample - loss: 0.0940 - acc: 0.0000e+00\n",
      "Epoch 66/300\n",
      "111/111 [==============================] - 0s 57us/sample - loss: 0.0934 - acc: 0.0000e+00\n",
      "Epoch 67/300\n",
      "111/111 [==============================] - 0s 54us/sample - loss: 0.0928 - acc: 0.0000e+00\n",
      "Epoch 68/300\n",
      "111/111 [==============================] - 0s 64us/sample - loss: 0.0924 - acc: 0.0000e+00\n",
      "Epoch 69/300\n",
      "111/111 [==============================] - 0s 63us/sample - loss: 0.0918 - acc: 0.0000e+00\n",
      "Epoch 70/300\n",
      "111/111 [==============================] - 0s 55us/sample - loss: 0.0913 - acc: 0.0000e+00\n",
      "Epoch 71/300\n",
      "111/111 [==============================] - 0s 67us/sample - loss: 0.0910 - acc: 0.0000e+00\n",
      "Epoch 72/300\n",
      "111/111 [==============================] - 0s 73us/sample - loss: 0.0906 - acc: 0.0000e+00\n",
      "Epoch 73/300\n",
      "111/111 [==============================] - 0s 59us/sample - loss: 0.0902 - acc: 0.0000e+00\n",
      "Epoch 74/300\n",
      "111/111 [==============================] - 0s 55us/sample - loss: 0.0896 - acc: 0.0000e+00\n",
      "Epoch 75/300\n",
      "111/111 [==============================] - 0s 52us/sample - loss: 0.0890 - acc: 0.0000e+00\n",
      "Epoch 76/300\n",
      "111/111 [==============================] - 0s 51us/sample - loss: 0.0886 - acc: 0.0000e+00\n",
      "Epoch 77/300\n",
      "111/111 [==============================] - 0s 58us/sample - loss: 0.0885 - acc: 0.0000e+00\n",
      "Epoch 78/300\n",
      "111/111 [==============================] - 0s 58us/sample - loss: 0.0875 - acc: 0.0000e+00\n",
      "Epoch 79/300\n"
     ]
    },
    {
     "name": "stdout",
     "output_type": "stream",
     "text": [
      "111/111 [==============================] - 0s 61us/sample - loss: 0.0871 - acc: 0.0000e+00\n",
      "Epoch 80/300\n",
      "111/111 [==============================] - 0s 65us/sample - loss: 0.0866 - acc: 0.0000e+00\n",
      "Epoch 81/300\n",
      "111/111 [==============================] - 0s 59us/sample - loss: 0.0862 - acc: 0.0000e+00\n",
      "Epoch 82/300\n",
      "111/111 [==============================] - 0s 79us/sample - loss: 0.0859 - acc: 0.0000e+00\n",
      "Epoch 83/300\n",
      "111/111 [==============================] - 0s 119us/sample - loss: 0.0861 - acc: 0.0000e+00\n",
      "Epoch 84/300\n",
      "111/111 [==============================] - 0s 54us/sample - loss: 0.0847 - acc: 0.0000e+00\n",
      "Epoch 85/300\n",
      "111/111 [==============================] - 0s 98us/sample - loss: 0.0842 - acc: 0.0000e+00\n",
      "Epoch 86/300\n",
      "111/111 [==============================] - ETA: 0s - loss: 0.0893 - acc: 0.0000e+0 - 0s 50us/sample - loss: 0.0839 - acc: 0.0000e+00\n",
      "Epoch 87/300\n",
      "111/111 [==============================] - 0s 54us/sample - loss: 0.0835 - acc: 0.0000e+00\n",
      "Epoch 88/300\n",
      "111/111 [==============================] - 0s 54us/sample - loss: 0.0830 - acc: 0.0000e+00\n",
      "Epoch 89/300\n",
      "111/111 [==============================] - 0s 49us/sample - loss: 0.0823 - acc: 0.0000e+00\n",
      "Epoch 90/300\n",
      "111/111 [==============================] - 0s 52us/sample - loss: 0.0819 - acc: 0.0000e+00\n",
      "Epoch 91/300\n",
      "111/111 [==============================] - 0s 64us/sample - loss: 0.0815 - acc: 0.0000e+00\n",
      "Epoch 92/300\n",
      "111/111 [==============================] - 0s 59us/sample - loss: 0.0809 - acc: 0.0000e+00\n",
      "Epoch 93/300\n",
      "111/111 [==============================] - 0s 61us/sample - loss: 0.0805 - acc: 0.0000e+00\n",
      "Epoch 94/300\n",
      "111/111 [==============================] - 0s 57us/sample - loss: 0.0799 - acc: 0.0000e+00\n",
      "Epoch 95/300\n",
      "111/111 [==============================] - 0s 59us/sample - loss: 0.0796 - acc: 0.0000e+00\n",
      "Epoch 96/300\n",
      "111/111 [==============================] - 0s 68us/sample - loss: 0.0792 - acc: 0.0000e+00\n",
      "Epoch 97/300\n",
      "111/111 [==============================] - 0s 53us/sample - loss: 0.0786 - acc: 0.0000e+00\n",
      "Epoch 98/300\n",
      "111/111 [==============================] - 0s 57us/sample - loss: 0.0784 - acc: 0.0000e+00\n",
      "Epoch 99/300\n",
      "111/111 [==============================] - 0s 56us/sample - loss: 0.0775 - acc: 0.0000e+00\n",
      "Epoch 100/300\n",
      "111/111 [==============================] - 0s 57us/sample - loss: 0.0771 - acc: 0.0000e+00\n",
      "Epoch 101/300\n",
      "111/111 [==============================] - 0s 57us/sample - loss: 0.0768 - acc: 0.0000e+00\n",
      "Epoch 102/300\n",
      "111/111 [==============================] - 0s 59us/sample - loss: 0.0765 - acc: 0.0000e+00\n",
      "Epoch 103/300\n",
      "111/111 [==============================] - 0s 55us/sample - loss: 0.0758 - acc: 0.0000e+00\n",
      "Epoch 104/300\n",
      "111/111 [==============================] - 0s 76us/sample - loss: 0.0753 - acc: 0.0000e+00\n",
      "Epoch 105/300\n",
      "111/111 [==============================] - 0s 52us/sample - loss: 0.0747 - acc: 0.0000e+00\n",
      "Epoch 106/300\n",
      "111/111 [==============================] - 0s 74us/sample - loss: 0.0744 - acc: 0.0000e+00\n",
      "Epoch 107/300\n",
      "111/111 [==============================] - 0s 51us/sample - loss: 0.0739 - acc: 0.0000e+00\n",
      "Epoch 108/300\n",
      "111/111 [==============================] - 0s 61us/sample - loss: 0.0734 - acc: 0.0000e+00\n",
      "Epoch 109/300\n",
      "111/111 [==============================] - 0s 60us/sample - loss: 0.0732 - acc: 0.0000e+00\n",
      "Epoch 110/300\n",
      "111/111 [==============================] - 0s 67us/sample - loss: 0.0727 - acc: 0.0000e+00\n",
      "Epoch 111/300\n",
      "111/111 [==============================] - 0s 59us/sample - loss: 0.0721 - acc: 0.0000e+00\n",
      "Epoch 112/300\n",
      "111/111 [==============================] - 0s 57us/sample - loss: 0.0717 - acc: 0.0000e+00\n",
      "Epoch 113/300\n",
      "111/111 [==============================] - 0s 61us/sample - loss: 0.0714 - acc: 0.0000e+00\n",
      "Epoch 114/300\n",
      "111/111 [==============================] - 0s 54us/sample - loss: 0.0708 - acc: 0.0000e+00\n",
      "Epoch 115/300\n",
      "111/111 [==============================] - 0s 54us/sample - loss: 0.0704 - acc: 0.0000e+00\n",
      "Epoch 116/300\n",
      "111/111 [==============================] - 0s 56us/sample - loss: 0.0702 - acc: 0.0000e+00\n",
      "Epoch 117/300\n",
      "111/111 [==============================] - 0s 60us/sample - loss: 0.0696 - acc: 0.0000e+00\n",
      "Epoch 118/300\n",
      "111/111 [==============================] - 0s 57us/sample - loss: 0.0692 - acc: 0.0000e+00\n",
      "Epoch 119/300\n",
      "111/111 [==============================] - 0s 112us/sample - loss: 0.0689 - acc: 0.0000e+00\n",
      "Epoch 120/300\n",
      "111/111 [==============================] - 0s 56us/sample - loss: 0.0687 - acc: 0.0000e+00\n",
      "Epoch 121/300\n",
      "111/111 [==============================] - 0s 50us/sample - loss: 0.0680 - acc: 0.0000e+00\n",
      "Epoch 122/300\n",
      "111/111 [==============================] - 0s 59us/sample - loss: 0.0676 - acc: 0.0000e+00\n",
      "Epoch 123/300\n",
      "111/111 [==============================] - 0s 54us/sample - loss: 0.0675 - acc: 0.0000e+00\n",
      "Epoch 124/300\n",
      "111/111 [==============================] - 0s 96us/sample - loss: 0.0673 - acc: 0.0000e+00\n",
      "Epoch 125/300\n",
      "111/111 [==============================] - 0s 54us/sample - loss: 0.0672 - acc: 0.0000e+00\n",
      "Epoch 126/300\n",
      "111/111 [==============================] - 0s 80us/sample - loss: 0.0664 - acc: 0.0000e+00\n",
      "Epoch 127/300\n",
      "111/111 [==============================] - 0s 49us/sample - loss: 0.0659 - acc: 0.0000e+00\n",
      "Epoch 128/300\n",
      "111/111 [==============================] - 0s 57us/sample - loss: 0.0655 - acc: 0.0000e+00\n",
      "Epoch 129/300\n",
      "111/111 [==============================] - 0s 58us/sample - loss: 0.0653 - acc: 0.0000e+00\n",
      "Epoch 130/300\n",
      "111/111 [==============================] - 0s 56us/sample - loss: 0.0650 - acc: 0.0000e+00\n",
      "Epoch 131/300\n",
      "111/111 [==============================] - 0s 56us/sample - loss: 0.0644 - acc: 0.0000e+00\n",
      "Epoch 132/300\n",
      "111/111 [==============================] - 0s 55us/sample - loss: 0.0641 - acc: 0.0000e+00\n",
      "Epoch 133/300\n",
      "111/111 [==============================] - 0s 58us/sample - loss: 0.0640 - acc: 0.0000e+00\n",
      "Epoch 134/300\n",
      "111/111 [==============================] - 0s 63us/sample - loss: 0.0636 - acc: 0.0000e+00\n",
      "Epoch 135/300\n",
      "111/111 [==============================] - 0s 63us/sample - loss: 0.0633 - acc: 0.0000e+00\n",
      "Epoch 136/300\n",
      "111/111 [==============================] - 0s 54us/sample - loss: 0.0629 - acc: 0.0000e+00\n",
      "Epoch 137/300\n",
      "111/111 [==============================] - 0s 60us/sample - loss: 0.0629 - acc: 0.0000e+00\n",
      "Epoch 138/300\n",
      "111/111 [==============================] - 0s 57us/sample - loss: 0.0623 - acc: 0.0000e+00\n",
      "Epoch 139/300\n",
      "111/111 [==============================] - 0s 68us/sample - loss: 0.0621 - acc: 0.0000e+00\n",
      "Epoch 140/300\n",
      "111/111 [==============================] - 0s 53us/sample - loss: 0.0617 - acc: 0.0000e+00\n",
      "Epoch 141/300\n",
      "111/111 [==============================] - 0s 59us/sample - loss: 0.0622 - acc: 0.0000e+00\n",
      "Epoch 142/300\n",
      "111/111 [==============================] - 0s 52us/sample - loss: 0.0613 - acc: 0.0000e+00\n",
      "Epoch 143/300\n",
      "111/111 [==============================] - 0s 67us/sample - loss: 0.0612 - acc: 0.0000e+00\n",
      "Epoch 144/300\n",
      "111/111 [==============================] - 0s 55us/sample - loss: 0.0609 - acc: 0.0000e+00\n",
      "Epoch 145/300\n",
      "111/111 [==============================] - 0s 61us/sample - loss: 0.0606 - acc: 0.0000e+00\n",
      "Epoch 146/300\n",
      "111/111 [==============================] - 0s 54us/sample - loss: 0.0601 - acc: 0.0000e+00\n",
      "Epoch 147/300\n",
      "111/111 [==============================] - 0s 65us/sample - loss: 0.0598 - acc: 0.0000e+00\n",
      "Epoch 148/300\n",
      "111/111 [==============================] - 0s 56us/sample - loss: 0.0600 - acc: 0.0000e+00\n",
      "Epoch 149/300\n",
      "111/111 [==============================] - 0s 52us/sample - loss: 0.0595 - acc: 0.0000e+00\n",
      "Epoch 150/300\n",
      "111/111 [==============================] - 0s 57us/sample - loss: 0.0592 - acc: 0.0000e+00\n",
      "Epoch 151/300\n",
      "111/111 [==============================] - 0s 55us/sample - loss: 0.0590 - acc: 0.0000e+00\n",
      "Epoch 152/300\n",
      "111/111 [==============================] - 0s 57us/sample - loss: 0.0589 - acc: 0.0000e+00\n",
      "Epoch 153/300\n",
      "111/111 [==============================] - ETA: 0s - loss: 0.0495 - acc: 0.0000e+0 - 0s 62us/sample - loss: 0.0588 - acc: 0.0000e+00\n",
      "Epoch 154/300\n",
      "111/111 [==============================] - 0s 56us/sample - loss: 0.0586 - acc: 0.0000e+00\n",
      "Epoch 155/300\n",
      "111/111 [==============================] - 0s 57us/sample - loss: 0.0582 - acc: 0.0000e+00\n",
      "Epoch 156/300\n"
     ]
    },
    {
     "name": "stdout",
     "output_type": "stream",
     "text": [
      "111/111 [==============================] - 0s 59us/sample - loss: 0.0582 - acc: 0.0000e+00\n",
      "Epoch 157/300\n",
      "111/111 [==============================] - 0s 54us/sample - loss: 0.0578 - acc: 0.0000e+00\n",
      "Epoch 158/300\n",
      "111/111 [==============================] - 0s 68us/sample - loss: 0.0574 - acc: 0.0000e+00\n",
      "Epoch 159/300\n",
      "111/111 [==============================] - 0s 61us/sample - loss: 0.0574 - acc: 0.0000e+00\n",
      "Epoch 160/300\n",
      "111/111 [==============================] - 0s 93us/sample - loss: 0.0575 - acc: 0.0000e+00\n",
      "Epoch 161/300\n",
      "111/111 [==============================] - 0s 66us/sample - loss: 0.0570 - acc: 0.0000e+00\n",
      "Epoch 162/300\n",
      "111/111 [==============================] - 0s 53us/sample - loss: 0.0571 - acc: 0.0000e+00\n",
      "Epoch 163/300\n",
      "111/111 [==============================] - 0s 64us/sample - loss: 0.0566 - acc: 0.0000e+00\n",
      "Epoch 164/300\n",
      "111/111 [==============================] - 0s 53us/sample - loss: 0.0567 - acc: 0.0000e+00\n",
      "Epoch 165/300\n",
      "111/111 [==============================] - 0s 54us/sample - loss: 0.0564 - acc: 0.0000e+00\n",
      "Epoch 166/300\n",
      "111/111 [==============================] - 0s 55us/sample - loss: 0.0562 - acc: 0.0000e+00\n",
      "Epoch 167/300\n",
      "111/111 [==============================] - 0s 58us/sample - loss: 0.0563 - acc: 0.0000e+00\n",
      "Epoch 168/300\n",
      "111/111 [==============================] - 0s 54us/sample - loss: 0.0562 - acc: 0.0000e+00\n",
      "Epoch 169/300\n",
      "111/111 [==============================] - 0s 66us/sample - loss: 0.0562 - acc: 0.0000e+00\n",
      "Epoch 170/300\n",
      "111/111 [==============================] - 0s 55us/sample - loss: 0.0558 - acc: 0.0000e+00\n",
      "Epoch 171/300\n",
      "111/111 [==============================] - 0s 58us/sample - loss: 0.0560 - acc: 0.0000e+00\n",
      "Epoch 172/300\n",
      "111/111 [==============================] - 0s 49us/sample - loss: 0.0556 - acc: 0.0000e+00\n",
      "Epoch 173/300\n",
      "111/111 [==============================] - 0s 85us/sample - loss: 0.0554 - acc: 0.0000e+00\n",
      "Epoch 174/300\n",
      "111/111 [==============================] - 0s 54us/sample - loss: 0.0552 - acc: 0.0000e+00\n",
      "Epoch 175/300\n",
      "111/111 [==============================] - 0s 68us/sample - loss: 0.0554 - acc: 0.0000e+00\n",
      "Epoch 176/300\n",
      "111/111 [==============================] - 0s 62us/sample - loss: 0.0547 - acc: 0.0000e+00\n",
      "Epoch 177/300\n",
      "111/111 [==============================] - 0s 57us/sample - loss: 0.0555 - acc: 0.0000e+00\n",
      "Epoch 178/300\n",
      "111/111 [==============================] - 0s 62us/sample - loss: 0.0551 - acc: 0.0000e+00\n",
      "Epoch 179/300\n",
      "111/111 [==============================] - 0s 53us/sample - loss: 0.0549 - acc: 0.0000e+00\n",
      "Epoch 180/300\n",
      "111/111 [==============================] - 0s 65us/sample - loss: 0.0547 - acc: 0.0000e+00\n",
      "Epoch 181/300\n",
      "111/111 [==============================] - 0s 60us/sample - loss: 0.0542 - acc: 0.0000e+00\n",
      "Epoch 182/300\n",
      "111/111 [==============================] - 0s 54us/sample - loss: 0.0543 - acc: 0.0000e+00\n",
      "Epoch 183/300\n",
      "111/111 [==============================] - 0s 51us/sample - loss: 0.0544 - acc: 0.0000e+00\n",
      "Epoch 184/300\n",
      "111/111 [==============================] - 0s 54us/sample - loss: 0.0549 - acc: 0.0000e+00\n",
      "Epoch 185/300\n",
      "111/111 [==============================] - 0s 52us/sample - loss: 0.0542 - acc: 0.0000e+00\n",
      "Epoch 186/300\n",
      "111/111 [==============================] - 0s 64us/sample - loss: 0.0537 - acc: 0.0000e+00\n",
      "Epoch 187/300\n",
      "111/111 [==============================] - 0s 53us/sample - loss: 0.0537 - acc: 0.0000e+00\n",
      "Epoch 188/300\n",
      "111/111 [==============================] - ETA: 0s - loss: 0.0442 - acc: 0.0000e+0 - 0s 69us/sample - loss: 0.0539 - acc: 0.0000e+00\n",
      "Epoch 189/300\n",
      "111/111 [==============================] - 0s 53us/sample - loss: 0.0535 - acc: 0.0000e+00\n",
      "Epoch 190/300\n",
      "111/111 [==============================] - 0s 67us/sample - loss: 0.0534 - acc: 0.0000e+00\n",
      "Epoch 191/300\n",
      "111/111 [==============================] - 0s 52us/sample - loss: 0.0534 - acc: 0.0000e+00\n",
      "Epoch 192/300\n",
      "111/111 [==============================] - 0s 62us/sample - loss: 0.0537 - acc: 0.0000e+00\n",
      "Epoch 193/300\n",
      "111/111 [==============================] - 0s 72us/sample - loss: 0.0533 - acc: 0.0000e+00\n",
      "Epoch 194/300\n",
      "111/111 [==============================] - 0s 55us/sample - loss: 0.0530 - acc: 0.0000e+00\n",
      "Epoch 195/300\n",
      "111/111 [==============================] - 0s 50us/sample - loss: 0.0530 - acc: 0.0000e+00\n",
      "Epoch 196/300\n",
      "111/111 [==============================] - 0s 52us/sample - loss: 0.0530 - acc: 0.0000e+00\n",
      "Epoch 197/300\n",
      "111/111 [==============================] - 0s 58us/sample - loss: 0.0527 - acc: 0.0000e+00\n",
      "Epoch 198/300\n",
      "111/111 [==============================] - 0s 51us/sample - loss: 0.0527 - acc: 0.0000e+00\n",
      "Epoch 199/300\n",
      "111/111 [==============================] - 0s 62us/sample - loss: 0.0524 - acc: 0.0000e+00\n",
      "Epoch 200/300\n",
      "111/111 [==============================] - 0s 54us/sample - loss: 0.0525 - acc: 0.0000e+00\n",
      "Epoch 201/300\n",
      "111/111 [==============================] - 0s 64us/sample - loss: 0.0526 - acc: 0.0000e+00\n",
      "Epoch 202/300\n",
      "111/111 [==============================] - 0s 54us/sample - loss: 0.0526 - acc: 0.0000e+00\n",
      "Epoch 203/300\n",
      "111/111 [==============================] - 0s 56us/sample - loss: 0.0526 - acc: 0.0000e+00\n",
      "Epoch 204/300\n",
      "111/111 [==============================] - 0s 53us/sample - loss: 0.0522 - acc: 0.0000e+00\n",
      "Epoch 205/300\n",
      "111/111 [==============================] - 0s 59us/sample - loss: 0.0522 - acc: 0.0000e+00\n",
      "Epoch 206/300\n",
      "111/111 [==============================] - 0s 53us/sample - loss: 0.0519 - acc: 0.0000e+00\n",
      "Epoch 207/300\n",
      "111/111 [==============================] - 0s 74us/sample - loss: 0.0521 - acc: 0.0000e+00\n",
      "Epoch 208/300\n",
      "111/111 [==============================] - 0s 52us/sample - loss: 0.0519 - acc: 0.0000e+00\n",
      "Epoch 209/300\n",
      "111/111 [==============================] - 0s 71us/sample - loss: 0.0519 - acc: 0.0000e+00\n",
      "Epoch 210/300\n",
      "111/111 [==============================] - 0s 55us/sample - loss: 0.0518 - acc: 0.0000e+00\n",
      "Epoch 211/300\n",
      "111/111 [==============================] - 0s 60us/sample - loss: 0.0515 - acc: 0.0000e+00\n",
      "Epoch 212/300\n",
      "111/111 [==============================] - 0s 51us/sample - loss: 0.0516 - acc: 0.0000e+00\n",
      "Epoch 213/300\n",
      "111/111 [==============================] - 0s 70us/sample - loss: 0.0515 - acc: 0.0000e+00\n",
      "Epoch 214/300\n",
      "111/111 [==============================] - 0s 99us/sample - loss: 0.0514 - acc: 0.0000e+00\n",
      "Epoch 215/300\n",
      "111/111 [==============================] - 0s 51us/sample - loss: 0.0512 - acc: 0.0000e+00\n",
      "Epoch 216/300\n",
      "111/111 [==============================] - 0s 64us/sample - loss: 0.0512 - acc: 0.0000e+00\n",
      "Epoch 217/300\n",
      "111/111 [==============================] - 0s 48us/sample - loss: 0.0511 - acc: 0.0000e+00\n",
      "Epoch 218/300\n",
      "111/111 [==============================] - 0s 60us/sample - loss: 0.0511 - acc: 0.0000e+00\n",
      "Epoch 219/300\n",
      "111/111 [==============================] - 0s 65us/sample - loss: 0.0510 - acc: 0.0000e+00\n",
      "Epoch 220/300\n",
      "111/111 [==============================] - 0s 61us/sample - loss: 0.0508 - acc: 0.0000e+00\n",
      "Epoch 221/300\n",
      "111/111 [==============================] - 0s 57us/sample - loss: 0.0508 - acc: 0.0000e+00\n",
      "Epoch 222/300\n",
      "111/111 [==============================] - 0s 65us/sample - loss: 0.0507 - acc: 0.0000e+00\n",
      "Epoch 223/300\n",
      "111/111 [==============================] - 0s 73us/sample - loss: 0.0508 - acc: 0.0000e+00\n",
      "Epoch 224/300\n",
      "111/111 [==============================] - 0s 57us/sample - loss: 0.0512 - acc: 0.0000e+00\n",
      "Epoch 225/300\n",
      "111/111 [==============================] - 0s 63us/sample - loss: 0.0507 - acc: 0.0000e+00\n",
      "Epoch 226/300\n",
      "111/111 [==============================] - 0s 52us/sample - loss: 0.0507 - acc: 0.0000e+00\n",
      "Epoch 227/300\n",
      "111/111 [==============================] - 0s 62us/sample - loss: 0.0510 - acc: 0.0000e+00\n",
      "Epoch 228/300\n",
      "111/111 [==============================] - 0s 50us/sample - loss: 0.0505 - acc: 0.0000e+00\n",
      "Epoch 229/300\n",
      "111/111 [==============================] - 0s 88us/sample - loss: 0.0502 - acc: 0.0000e+00\n",
      "Epoch 230/300\n",
      "111/111 [==============================] - 0s 61us/sample - loss: 0.0503 - acc: 0.0000e+00\n",
      "Epoch 231/300\n",
      "111/111 [==============================] - 0s 53us/sample - loss: 0.0501 - acc: 0.0000e+00\n",
      "Epoch 232/300\n",
      "111/111 [==============================] - 0s 60us/sample - loss: 0.0500 - acc: 0.0000e+00\n",
      "Epoch 233/300\n"
     ]
    },
    {
     "name": "stdout",
     "output_type": "stream",
     "text": [
      "111/111 [==============================] - 0s 57us/sample - loss: 0.0501 - acc: 0.0000e+00\n",
      "Epoch 234/300\n",
      "111/111 [==============================] - 0s 56us/sample - loss: 0.0502 - acc: 0.0000e+00\n",
      "Epoch 235/300\n",
      "111/111 [==============================] - 0s 57us/sample - loss: 0.0502 - acc: 0.0000e+00\n",
      "Epoch 236/300\n",
      "111/111 [==============================] - 0s 53us/sample - loss: 0.0500 - acc: 0.0000e+00\n",
      "Epoch 237/300\n",
      "111/111 [==============================] - 0s 65us/sample - loss: 0.0499 - acc: 0.0000e+00\n",
      "Epoch 238/300\n",
      "111/111 [==============================] - 0s 72us/sample - loss: 0.0496 - acc: 0.0000e+00\n",
      "Epoch 239/300\n",
      "111/111 [==============================] - 0s 52us/sample - loss: 0.0498 - acc: 0.0000e+00\n",
      "Epoch 240/300\n",
      "111/111 [==============================] - 0s 60us/sample - loss: 0.0496 - acc: 0.0000e+00\n",
      "Epoch 241/300\n",
      "111/111 [==============================] - 0s 50us/sample - loss: 0.0496 - acc: 0.0000e+00\n",
      "Epoch 242/300\n",
      "111/111 [==============================] - 0s 86us/sample - loss: 0.0495 - acc: 0.0000e+00\n",
      "Epoch 243/300\n",
      "111/111 [==============================] - 0s 65us/sample - loss: 0.0496 - acc: 0.0000e+00\n",
      "Epoch 244/300\n",
      "111/111 [==============================] - 0s 55us/sample - loss: 0.0494 - acc: 0.0000e+00\n",
      "Epoch 245/300\n",
      "111/111 [==============================] - 0s 52us/sample - loss: 0.0494 - acc: 0.0000e+00\n",
      "Epoch 246/300\n",
      "111/111 [==============================] - 0s 49us/sample - loss: 0.0497 - acc: 0.0000e+00\n",
      "Epoch 247/300\n",
      "111/111 [==============================] - 0s 58us/sample - loss: 0.0493 - acc: 0.0000e+00\n",
      "Epoch 248/300\n",
      "111/111 [==============================] - 0s 49us/sample - loss: 0.0492 - acc: 0.0000e+00\n",
      "Epoch 249/300\n",
      "111/111 [==============================] - 0s 66us/sample - loss: 0.0492 - acc: 0.0000e+00\n",
      "Epoch 250/300\n",
      "111/111 [==============================] - 0s 54us/sample - loss: 0.0491 - acc: 0.0000e+00\n",
      "Epoch 251/300\n",
      "111/111 [==============================] - 0s 59us/sample - loss: 0.0497 - acc: 0.0000e+00\n",
      "Epoch 252/300\n",
      "111/111 [==============================] - 0s 53us/sample - loss: 0.0493 - acc: 0.0000e+00\n",
      "Epoch 253/300\n",
      "111/111 [==============================] - 0s 63us/sample - loss: 0.0490 - acc: 0.0000e+00\n",
      "Epoch 254/300\n",
      "111/111 [==============================] - 0s 50us/sample - loss: 0.0489 - acc: 0.0000e+00\n",
      "Epoch 255/300\n",
      "111/111 [==============================] - 0s 73us/sample - loss: 0.0489 - acc: 0.0000e+00\n",
      "Epoch 256/300\n",
      "111/111 [==============================] - 0s 52us/sample - loss: 0.0488 - acc: 0.0000e+00\n",
      "Epoch 257/300\n",
      "111/111 [==============================] - 0s 58us/sample - loss: 0.0487 - acc: 0.0000e+00\n",
      "Epoch 258/300\n",
      "111/111 [==============================] - 0s 52us/sample - loss: 0.0494 - acc: 0.0000e+00\n",
      "Epoch 259/300\n",
      "111/111 [==============================] - 0s 78us/sample - loss: 0.0487 - acc: 0.0000e+00\n",
      "Epoch 260/300\n",
      "111/111 [==============================] - 0s 52us/sample - loss: 0.0487 - acc: 0.0000e+00\n",
      "Epoch 261/300\n",
      "111/111 [==============================] - 0s 59us/sample - loss: 0.0486 - acc: 0.0000e+00\n",
      "Epoch 262/300\n",
      "111/111 [==============================] - 0s 76us/sample - loss: 0.0485 - acc: 0.0000e+00\n",
      "Epoch 263/300\n",
      "111/111 [==============================] - 0s 58us/sample - loss: 0.0486 - acc: 0.0000e+00\n",
      "Epoch 264/300\n",
      "111/111 [==============================] - 0s 53us/sample - loss: 0.0486 - acc: 0.0000e+00\n",
      "Epoch 265/300\n",
      "111/111 [==============================] - 0s 54us/sample - loss: 0.0487 - acc: 0.0000e+00\n",
      "Epoch 266/300\n",
      "111/111 [==============================] - 0s 60us/sample - loss: 0.0486 - acc: 0.0000e+00\n",
      "Epoch 267/300\n",
      "111/111 [==============================] - 0s 58us/sample - loss: 0.0484 - acc: 0.0000e+00\n",
      "Epoch 268/300\n",
      "111/111 [==============================] - 0s 63us/sample - loss: 0.0484 - acc: 0.0000e+00\n",
      "Epoch 269/300\n",
      "111/111 [==============================] - 0s 58us/sample - loss: 0.0482 - acc: 0.0000e+00\n",
      "Epoch 270/300\n",
      "111/111 [==============================] - 0s 52us/sample - loss: 0.0482 - acc: 0.0000e+00\n",
      "Epoch 271/300\n",
      "111/111 [==============================] - 0s 67us/sample - loss: 0.0482 - acc: 0.0000e+00\n",
      "Epoch 272/300\n",
      "111/111 [==============================] - 0s 63us/sample - loss: 0.0486 - acc: 0.0000e+00\n",
      "Epoch 273/300\n",
      "111/111 [==============================] - 0s 64us/sample - loss: 0.0480 - acc: 0.0000e+00\n",
      "Epoch 274/300\n",
      "111/111 [==============================] - 0s 62us/sample - loss: 0.0481 - acc: 0.0000e+00\n",
      "Epoch 275/300\n",
      "111/111 [==============================] - 0s 52us/sample - loss: 0.0481 - acc: 0.0000e+00\n",
      "Epoch 276/300\n",
      "111/111 [==============================] - 0s 57us/sample - loss: 0.0481 - acc: 0.0000e+00\n",
      "Epoch 277/300\n",
      "111/111 [==============================] - 0s 51us/sample - loss: 0.0480 - acc: 0.0000e+00\n",
      "Epoch 278/300\n",
      "111/111 [==============================] - 0s 62us/sample - loss: 0.0480 - acc: 0.0000e+00\n",
      "Epoch 279/300\n",
      "111/111 [==============================] - 0s 52us/sample - loss: 0.0483 - acc: 0.0000e+00\n",
      "Epoch 280/300\n",
      "111/111 [==============================] - 0s 68us/sample - loss: 0.0480 - acc: 0.0000e+00\n",
      "Epoch 281/300\n",
      "111/111 [==============================] - 0s 75us/sample - loss: 0.0488 - acc: 0.0000e+00\n",
      "Epoch 282/300\n",
      "111/111 [==============================] - 0s 53us/sample - loss: 0.0478 - acc: 0.0000e+00\n",
      "Epoch 283/300\n",
      "111/111 [==============================] - 0s 60us/sample - loss: 0.0477 - acc: 0.0000e+00\n",
      "Epoch 284/300\n",
      "111/111 [==============================] - 0s 54us/sample - loss: 0.0480 - acc: 0.0000e+00\n",
      "Epoch 285/300\n",
      "111/111 [==============================] - 0s 54us/sample - loss: 0.0478 - acc: 0.0000e+00\n",
      "Epoch 286/300\n",
      "111/111 [==============================] - 0s 56us/sample - loss: 0.0475 - acc: 0.0000e+00\n",
      "Epoch 287/300\n",
      "111/111 [==============================] - 0s 59us/sample - loss: 0.0476 - acc: 0.0000e+00\n",
      "Epoch 288/300\n",
      "111/111 [==============================] - 0s 55us/sample - loss: 0.0478 - acc: 0.0000e+00\n",
      "Epoch 289/300\n",
      "111/111 [==============================] - 0s 58us/sample - loss: 0.0476 - acc: 0.0000e+00\n",
      "Epoch 290/300\n",
      "111/111 [==============================] - 0s 49us/sample - loss: 0.0475 - acc: 0.0000e+00\n",
      "Epoch 291/300\n",
      "111/111 [==============================] - 0s 62us/sample - loss: 0.0476 - acc: 0.0000e+00\n",
      "Epoch 292/300\n",
      "111/111 [==============================] - 0s 49us/sample - loss: 0.0475 - acc: 0.0000e+00\n",
      "Epoch 293/300\n",
      "111/111 [==============================] - 0s 80us/sample - loss: 0.0475 - acc: 0.0000e+00\n",
      "Epoch 294/300\n",
      "111/111 [==============================] - 0s 51us/sample - loss: 0.0476 - acc: 0.0000e+00\n",
      "Epoch 295/300\n",
      "111/111 [==============================] - 0s 69us/sample - loss: 0.0474 - acc: 0.0000e+00\n",
      "Epoch 296/300\n",
      "111/111 [==============================] - 0s 55us/sample - loss: 0.0475 - acc: 0.0000e+00\n",
      "Epoch 297/300\n",
      "111/111 [==============================] - 0s 59us/sample - loss: 0.0473 - acc: 0.0000e+00\n",
      "Epoch 298/300\n",
      "111/111 [==============================] - 0s 53us/sample - loss: 0.0472 - acc: 0.0000e+00\n",
      "Epoch 299/300\n",
      "111/111 [==============================] - 0s 68us/sample - loss: 0.0473 - acc: 0.0000e+00\n",
      "Epoch 300/300\n",
      "111/111 [==============================] - 0s 58us/sample - loss: 0.0473 - acc: 0.0000e+00\n"
     ]
    },
    {
     "data": {
      "text/plain": [
       "<tensorflow.python.keras.callbacks.History at 0x7f7dd84fe4a8>"
      ]
     },
     "execution_count": 55,
     "metadata": {},
     "output_type": "execute_result"
    }
   ],
   "source": [
    "regressor4.fit(xtreino_novo,ytreino_novo,epochs =300)"
   ]
  },
  {
   "cell_type": "code",
   "execution_count": 56,
   "metadata": {
    "colab": {},
    "colab_type": "code",
    "id": "DrpwZVUo4hj7"
   },
   "outputs": [],
   "source": [
    "y_predict_teste_novo = regressor4.predict(xteste_novo)"
   ]
  },
  {
   "cell_type": "code",
   "execution_count": 57,
   "metadata": {
    "colab": {},
    "colab_type": "code",
    "id": "FCf5PTAV4hkE"
   },
   "outputs": [],
   "source": [
    "resultado = pd.DataFrame(y_predict_teste_novo)[0]"
   ]
  },
  {
   "cell_type": "code",
   "execution_count": 58,
   "metadata": {
    "colab": {
     "base_uri": "https://localhost:8080/",
     "height": 428
    },
    "colab_type": "code",
    "id": "UFW2I2cWn-y6",
    "outputId": "0ae45219-44ad-4313-826e-4d9631d17b75"
   },
   "outputs": [
    {
     "data": {
      "image/png": "[encoded data removed]",
      "text/plain": [
       "<Figure size 720x432 with 1 Axes>"
      ]
     },
     "metadata": {
      "needs_background": "light"
     },
     "output_type": "display_data"
    }
   ],
   "source": [
    "plotar_resultado_treino_dados_alterados(ytreino_novo, passageiros[4:115], 'treino')\n",
    "plotar_resultado_treino_dados_alterados(pd.DataFrame(y_predict_novo)[0], passageiros[4:115], 'ajuste_treino')\n",
    "plotar_resultado_treino_dados_alterados(yteste_novo, passageiros[119:144], 'teste')\n",
    "plotar_resultado_treino_dados_alterados(resultado.values, passageiros[119:144], 'previsão')"
   ]
  }
 ],
 "metadata": {
  "colab": {
   "name": "Temporaiskeras3.ipynb",
   "provenance": []
  },
  "kernelspec": {
   "display_name": "Python 3",
   "language": "python",
   "name": "python3"
  },
  "language_info": {
   "codemirror_mode": {
    "name": "ipython",
    "version": 3
   },
   "file_extension": ".py",
   "mimetype": "text/x-python",
   "name": "python",
   "nbconvert_exporter": "python",
   "pygments_lexer": "ipython3",
   "version": "3.6.8"
  }
 },
 "nbformat": 4,
 "nbformat_minor": 1
}
